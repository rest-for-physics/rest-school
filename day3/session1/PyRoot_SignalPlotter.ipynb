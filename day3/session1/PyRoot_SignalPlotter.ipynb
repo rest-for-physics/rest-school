{
 "cells": [
  {
   "cell_type": "code",
   "execution_count": 1,
   "metadata": {},
   "outputs": [
    {
     "name": "stdout",
     "output_type": "stream",
     "text": [
      "Welcome to JupyROOT 6.26/06\n"
     ]
    }
   ],
   "source": [
    "#!/usr/bin/python3\n",
    "\n",
    "import ROOT\n",
    "ROOT.gSystem.Load(\"libRestFramework.so\")\n",
    "ROOT.gSystem.Load(\"libRestRaw.so\")\n",
    "ROOT.gSystem.Load(\"libRestDetector.so\")\n",
    "\n",
    "import numpy as np\n",
    "import matplotlib.pyplot as plt\n",
    "\n",
    "from ipywidgets import interact, interactive, fixed, interact_manual, IntSlider\n",
    "import ipywidgets as widgets\n",
    "\n",
    "%matplotlib widget"
   ]
  },
  {
   "cell_type": "code",
   "execution_count": 36,
   "metadata": {},
   "outputs": [],
   "source": [
    "#############################\n",
    "# Set variables:\n",
    "#############################\n",
    "\n",
    "filename = \"../data/R01744_00000_RawToRawSignal_XeNeIso_Calibration_57Vetoes_konrad_2.3.12_50events.root\"\n",
    "\n",
    "# noise\n",
    "smoothingWindow = 75 # 75\n",
    "# BaseLineRange = [5,507] # [5,55]\n",
    "BaseLineRange = [10,100] # [5,55]\n",
    "PointThreshold = 2.2       # 1.5   # how many sigmas above baseline to be counted as point above threshold\n",
    "SignalThreshold = 1      # 1.5   # consecutive points have to have a standard deviation larger than this value time baseline fluctuation to be counted as signal\n",
    "PointsOverThreshold = 2    # 4     # only data points with at least this number of consecutive points above threshold will be considered\n",
    "\n",
    "sId = np.array([4520,4521,4523,4524,4525,4526,4527,4528,4529,4530,4531,4532,4539,4540,4541,4542,4543,4544])\n",
    "\n",
    "\n",
    "#############################\n",
    "# Main code\n",
    "#############################\n",
    "run = ROOT.TRestRun(filename)\n",
    "\n",
    "def getSignal(i,ii):\n",
    "    # Get entry\n",
    "    run.GetEntry(i)\n",
    "\n",
    "    # Get TRestRawSignalEvent\n",
    "    ev = run.GetInputEvent()\n",
    "    \n",
    "    # translate signalID to signal index\n",
    "    sIndex = ev.GetSignalIndex(int(sId[ii]))\n",
    "\n",
    "    # Get TRestRawSignal\n",
    "    signal = ev.GetSignal(sIndex)\n",
    "\n",
    "    # use baseline correction method and fill into new signal\n",
    "    signal2 = ROOT.TRestRawSignal()\n",
    "    signal.GetBaseLineCorrected(signal2,smoothingWindow)\n",
    "    signal2.SetID(sIndex)\n",
    "        \n",
    "    return signal2\n",
    "\n",
    "\n",
    "def plotSignal(i,ii):\n",
    "\n",
    "    signal = getSignal(i,ii) \n",
    "    \n",
    "    # Get noise parameters\n",
    "    signal.CalculateBaseLine(BaseLineRange[0],BaseLineRange[1],\"\")\n",
    "    baseline = signal.GetBaseLine()\n",
    "    baselinesigma = signal.GetBaseLineSigma()\n",
    "    \n",
    "    # fill signal into vector\n",
    "    sSize = signal.GetNumberOfPoints()\n",
    "    sVector = np.zeros(sSize)\n",
    "    for i in range(sSize):\n",
    "        sVector[i] = signal.GetRawData(i)\n",
    "\n",
    "    # Use points over threshold method to separate noise from signals\n",
    "    signal.InitializePointsOverThreshold(ROOT.TVector2(PointThreshold,SignalThreshold),PointsOverThreshold)\n",
    "    pot1 = signal.GetPointsOverThreshold()\n",
    "    sVectorPOT1 = np.zeros(len(pot1))\n",
    "    for i in range(len(pot1)):\n",
    "        sVectorPOT1[i] = sVector[pot1[i]]\n",
    "\n",
    "    # Plot signal\n",
    "    if (plt.fignum_exists(1)): plt.clf()\n",
    "    \n",
    "    plt.figure(1,figsize = (12,5))\n",
    "\n",
    "    plt.plot(sVector) # plot raw signal\n",
    "    plt.plot(pot1,sVectorPOT1,'.',color='r',label='\"Points over threshold\"')    # plot points over threshold\n",
    "    \n",
    "    # indicate region which is used for baseline determination\n",
    "    plt.axvspan(BaseLineRange[0],BaseLineRange[1], color='skyblue', alpha=0.3, lw=0)\n",
    "\n",
    "    line1 = plt.axhline(y=baseline, color='m', linestyle='-', label='standard method')\n",
    "    line2 = plt.axhline(y=baseline+baselinesigma, color='m', linestyle=(0,(5,10)))\n",
    "    plt.axhline(y=baseline-baselinesigma, color='m', linestyle=(0,(5,10)))\n",
    "    \n",
    "    plt.legend([line1,line2],[\"baseline, standard method\",\"sigma, standard method\"])\n",
    "    \n",
    "    # show if the signal is noise or not\n",
    "    if len(pot1) >= PointsOverThreshold:\n",
    "        plt.plot([], [], marker='o', color='w', label='Standard: SIGNAL', markerfacecolor='g', markersize=15)\n",
    "    else:\n",
    "        plt.plot([], [], marker='o', color='w', label='Standard: NOISE',  markerfacecolor='r', markersize=15)\n",
    "    \n",
    "    plt.legend()\n",
    "    plt.grid(alpha=0.5)\n",
    "    plt.show()\n",
    "\n",
    "    # Print info\n",
    "    print(\"\\nbaseline = %.2f\" % baseline)\n",
    "    print(\"baseline sigma = %.2f\" % baselinesigma)\n",
    "    if len(pot1) >= PointsOverThreshold:\n",
    "        print(\"SIGNAL: Points over threshold: %i\" %len(pot1))\n",
    "    else:\n",
    "        print(\"NOISE: Points over threshold: %i\" %len(pot1))\n",
    "\n",
    "    "
   ]
  },
  {
   "cell_type": "code",
   "execution_count": 37,
   "metadata": {},
   "outputs": [
    {
     "data": {
      "application/vnd.jupyter.widget-view+json": {
       "model_id": "75100b715b7b411bb8532a38aeb1407b",
       "version_major": 2,
       "version_minor": 0
      },
      "text/plain": [
       "interactive(children=(IntSlider(value=0, description='event ID', max=50), IntSlider(value=1, description='sign…"
      ]
     },
     "metadata": {},
     "output_type": "display_data"
    },
    {
     "data": {
      "text/plain": [
       "<function __main__.plotSignal(i, ii)>"
      ]
     },
     "execution_count": 37,
     "metadata": {},
     "output_type": "execute_result"
    }
   ],
   "source": [
    "interact(plotSignal,i=IntSlider(description='event ID', min=0, max=50, value=0),ii=IntSlider(description='signal ID', min=0, max=17, value=1))"
   ]
  },
  {
   "cell_type": "code",
   "execution_count": null,
   "metadata": {},
   "outputs": [],
   "source": []
  }
 ],
 "metadata": {
  "interpreter": {
   "hash": "767d51c1340bd893661ea55ea3124f6de3c7a262a8b4abca0554b478b1e2ff90"
  },
  "kernelspec": {
   "display_name": "Python 3.7.3 64-bit",
   "language": "python",
   "name": "python3"
  },
  "language_info": {
   "codemirror_mode": {
    "name": "ipython",
    "version": 3
   },
   "file_extension": ".py",
   "mimetype": "text/x-python",
   "name": "python",
   "nbconvert_exporter": "python",
   "pygments_lexer": "ipython3",
   "version": "3.7.3"
  },
  "orig_nbformat": 4
 },
 "nbformat": 4,
 "nbformat_minor": 2
}
